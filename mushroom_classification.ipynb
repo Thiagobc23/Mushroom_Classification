{
 "cells": [
  {
   "cell_type": "code",
   "execution_count": 1,
   "metadata": {},
   "outputs": [],
   "source": [
    "# Classification\n",
    "# Inspired on https://www.kaggle.com/coolman/different-classification-techniques-python\n",
    "# And adapted to categorical classification on https://www.kaggle.com/uciml/mushroom-classification\n",
    "\n",
    "# The objective is to classify mushrooms between edible and poisonous\n",
    "# with the following attributes:\n",
    "#    cap-shape, cap-surface, cap-color, bruises, odor, gill-attachment, gill-spacing, gill-size, \n",
    "#    gill-color, stalk-shape, stalk-root, stalk-surface-above-ring, stalk-surface-below-ring, stalk-color-above-ring, \n",
    "#    stalk-color-below-ring, veil-type, veil-color, ring-number, ring-type, spore-print-color, population, habitat."
   ]
  },
  {
   "cell_type": "code",
   "execution_count": 2,
   "metadata": {},
   "outputs": [],
   "source": [
    "import numpy as np \n",
    "import pandas as pd\n",
    "\n",
    "# Load dataset\n",
    "mush = pd.read_csv(\"mushrooms.csv\") #load the dataset"
   ]
  },
  {
   "cell_type": "code",
   "execution_count": 3,
   "metadata": {},
   "outputs": [],
   "source": [
    "x = mush.iloc[:,1:7] # ignore first column which is the predicted\n",
    "y = mush.iloc[:,0:1] # Classification on edible or poisonous"
   ]
  },
  {
   "cell_type": "code",
   "execution_count": 4,
   "metadata": {},
   "outputs": [],
   "source": [
    "# build train and test dataset\n",
    "from sklearn.model_selection import train_test_split\n",
    "from sklearn.preprocessing import OneHotEncoder\n",
    "\n",
    "onehotencoder = OneHotEncoder(handle_unknown='ignore')\n",
    "x = onehotencoder.fit_transform(x).toarray()\n",
    "X_train, X_test, y_train, y_test = train_test_split(x, y, test_size = 0.1, random_state = 100)"
   ]
  },
  {
   "cell_type": "code",
   "execution_count": 5,
   "metadata": {},
   "outputs": [],
   "source": [
    "import pandas as pd\n",
    "import numpy as np\n",
    "import matplotlib.pyplot as plt\n",
    "from matplotlib.colors import ListedColormap\n",
    "from sklearn.metrics import accuracy_score\n",
    "from sklearn.metrics import confusion_matrix\n",
    "\n",
    "# fig = plt.figure(figsize=(15,20))\n",
    "\n",
    "def run_model(model, alg_name):\n",
    "    \n",
    "    # build the model on training data\n",
    "    model.fit(X_train, y_train.values.ravel())\n",
    "\n",
    "    # make predictions for test data\n",
    "    y_pred = model.predict(X_test)\n",
    "    \n",
    "    # calculate the accuracy score\n",
    "    accuracy =  accuracy_score(y_test, y_pred) * 100\n",
    "    print(alg_name + \". Accuracy: \" + str(accuracy))\n",
    "    \n",
    "    # Create a confusion matrix\n",
    "    cm = pd.DataFrame(confusion_matrix(y_test.iloc[:,0], y_pred, labels=['e','p']))\n",
    "    cm.rename(index = {0: \"edible\", 1:\"poison\"},columns = {0: \"edible\", 1:\"poison\"},inplace = True) \n",
    "    print(cm)\n",
    "    \n",
    "    # my own method for confusion matrix\n",
    "    #pt = 0; pf = 0; et = 0; ef = 0\n",
    "    #for idx, val in enumerate(y_pred):\n",
    "    #    if(val == 'p'):\n",
    "    #        if(val == y_test.iloc[idx,0]): pt += 1;\n",
    "    #        else: pf += 1;\n",
    "    #    else:\n",
    "    #        if(val == y_test.iloc[idx,0]): et += 1;\n",
    "    #        else: ef += 1;    \n",
    "    #print('\\n        Predicted')\n",
    "    #print('actual', 'poison', 'edible')\n",
    "    #print('poison', pt,'  ', ef)\n",
    "    #print('edible', pf,'  ', et)"
   ]
  },
  {
   "cell_type": "code",
   "execution_count": 6,
   "metadata": {},
   "outputs": [
    {
     "name": "stdout",
     "output_type": "stream",
     "text": [
      "Decision Tree. Accuracy: 99.3849938499385\n",
      "        edible  poison\n",
      "edible     427       0\n",
      "poison       5     381\n"
     ]
    }
   ],
   "source": [
    "# Decision Tree\n",
    "from sklearn import tree\n",
    "\n",
    "model = tree.DecisionTreeClassifier(criterion='entropy', max_depth=7)\n",
    "run_model(model, \"Decision Tree\")"
   ]
  },
  {
   "cell_type": "code",
   "execution_count": 7,
   "metadata": {},
   "outputs": [
    {
     "name": "stdout",
     "output_type": "stream",
     "text": [
      "Random Forest. Accuracy: 99.50799507995079\n",
      "        edible  poison\n",
      "edible     427       0\n",
      "poison       4     382\n"
     ]
    }
   ],
   "source": [
    "# Random Forest\n",
    "from sklearn.ensemble import RandomForestClassifier\n",
    "\n",
    "model = RandomForestClassifier(n_estimators=10)\n",
    "run_model(model, \"Random Forest\")"
   ]
  },
  {
   "cell_type": "code",
   "execution_count": 8,
   "metadata": {},
   "outputs": [
    {
     "name": "stdout",
     "output_type": "stream",
     "text": [
      "XGBoost. Accuracy: 99.3849938499385\n",
      "        edible  poison\n",
      "edible     427       0\n",
      "poison       5     381\n"
     ]
    }
   ],
   "source": [
    "# xgboost\n",
    "# 'pip install xgboost'\n",
    "\n",
    "from xgboost import XGBClassifier\n",
    "\n",
    "model = XGBClassifier()\n",
    "run_model(model, \"XGBoost\")"
   ]
  },
  {
   "cell_type": "code",
   "execution_count": 9,
   "metadata": {},
   "outputs": [
    {
     "name": "stdout",
     "output_type": "stream",
     "text": [
      "SVM Classifier. Accuracy: 99.50799507995079\n",
      "        edible  poison\n",
      "edible     427       0\n",
      "poison       4     382\n"
     ]
    }
   ],
   "source": [
    "# ------ SVM Classifier ----------------\n",
    "from sklearn.svm import SVC\n",
    "model = SVC(gamma = 'scale')\n",
    "run_model(model, \"SVM Classifier\")"
   ]
  },
  {
   "cell_type": "code",
   "execution_count": 10,
   "metadata": {},
   "outputs": [
    {
     "name": "stdout",
     "output_type": "stream",
     "text": [
      "Nearest Neighbors Classifier. Accuracy: 99.3849938499385\n",
      "        edible  poison\n",
      "edible     427       0\n",
      "poison       5     381\n"
     ]
    }
   ],
   "source": [
    "# -------- Nearest Neighbors ----------\n",
    "from sklearn import neighbors\n",
    "model = neighbors.KNeighborsClassifier()\n",
    "run_model(model, \"Nearest Neighbors Classifier\")"
   ]
  },
  {
   "cell_type": "code",
   "execution_count": 11,
   "metadata": {},
   "outputs": [
    {
     "name": "stdout",
     "output_type": "stream",
     "text": [
      "SGD Classifier. Accuracy: 98.4009840098401\n",
      "        edible  poison\n",
      "edible     427       0\n",
      "poison      13     373\n"
     ]
    }
   ],
   "source": [
    "# ---------- SGD Classifier -----------------\n",
    "from sklearn.linear_model import SGDClassifier\n",
    "from sklearn.multiclass import OneVsRestClassifier\n",
    "\n",
    "model = OneVsRestClassifier(SGDClassifier(max_iter=10, tol=100))\n",
    "run_model(model, \"SGD Classifier\")"
   ]
  },
  {
   "cell_type": "code",
   "execution_count": 12,
   "metadata": {},
   "outputs": [
    {
     "name": "stdout",
     "output_type": "stream",
     "text": [
      "Gaussian Naive Bayes. Accuracy: 98.2779827798278\n",
      "        edible  poison\n",
      "edible     427       0\n",
      "poison      14     372\n"
     ]
    }
   ],
   "source": [
    "# --------- Gaussian Naive Bayes ---------\n",
    "from sklearn.naive_bayes import GaussianNB\n",
    "\n",
    "model = GaussianNB()\n",
    "run_model(model, \"Gaussian Naive Bayes\")"
   ]
  },
  {
   "cell_type": "code",
   "execution_count": 13,
   "metadata": {},
   "outputs": [
    {
     "name": "stdout",
     "output_type": "stream",
     "text": [
      " MLP Neural network . Accuracy: 99.50799507995079\n",
      "        edible  poison\n",
      "edible     427       0\n",
      "poison       4     382\n"
     ]
    }
   ],
   "source": [
    "# ----------- Neural network - Multi-layer Perceptron  ------------\n",
    "from sklearn.neural_network import MLPClassifier\n",
    "\n",
    "model = MLPClassifier()\n",
    "run_model(model, \" MLP Neural network \")"
   ]
  },
  {
   "cell_type": "code",
   "execution_count": null,
   "metadata": {},
   "outputs": [],
   "source": []
  }
 ],
 "metadata": {
  "kernelspec": {
   "display_name": "Python 3",
   "language": "python",
   "name": "python3"
  },
  "language_info": {
   "codemirror_mode": {
    "name": "ipython",
    "version": 3
   },
   "file_extension": ".py",
   "mimetype": "text/x-python",
   "name": "python",
   "nbconvert_exporter": "python",
   "pygments_lexer": "ipython3",
   "version": "3.7.3"
  }
 },
 "nbformat": 4,
 "nbformat_minor": 2
}
