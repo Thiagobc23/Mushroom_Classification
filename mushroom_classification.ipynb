{
 "cells": [
  {
   "cell_type": "code",
   "execution_count": 1,
   "metadata": {},
   "outputs": [],
   "source": [
    "# Classification\n",
    "# Inspired by https://www.kaggle.com/coolman/different-classification-techniques-python\n",
    "# And adapted to categorical classification on https://www.kaggle.com/uciml/mushroom-classification\n",
    "\n",
    "# The objective is to classify mushrooms between edible and poisonous\n",
    "# with the following attributes:\n",
    "#    cap-shape, cap-surface, cap-color, bruises, odor, gill-attachment, gill-spacing, gill-size, \n",
    "#    gill-color, stalk-shape, stalk-root, stalk-surface-above-ring, stalk-surface-below-ring, stalk-color-above-ring, \n",
    "#    stalk-color-below-ring, veil-type, veil-color, ring-number, ring-type, spore-print-color, population, habitat."
   ]
  },
  {
   "cell_type": "code",
   "execution_count": 2,
   "metadata": {},
   "outputs": [],
   "source": [
    "import numpy as np \n",
    "import pandas as pd\n",
    "\n",
    "# Load dataset\n",
    "mush = pd.read_csv(\"mushrooms.csv\") #load the dataset"
   ]
  },
  {
   "cell_type": "code",
   "execution_count": 3,
   "metadata": {},
   "outputs": [],
   "source": [
    "# prepare data\n",
    "x = mush.iloc[:,1:23] # ignore first column which is the predicted\n",
    "y = mush.iloc[:,0:1] # Classification on edible or poisonous\n",
    "dummies = pd.get_dummies(x[:]) # transform x collumns "
   ]
  },
  {
   "cell_type": "code",
   "execution_count": 4,
   "metadata": {},
   "outputs": [
    {
     "name": "stdout",
     "output_type": "stream",
     "text": [
      "Num Features: 10\n",
      "Feature Ranking: [ 57  44  97 105  48  88  24  27  80  99  31  33 103 106  58  32  61  60\n",
      "  34  77  78  89   1   3   1   1  59   1   2  17  18  85  86   7  12   6\n",
      "   1   8  46 104  96  63  52  90  64  29  73  65  84  39  16  35  10  37\n",
      " 100  25  30   1  23  94  20  55  38  13  79  56  45  54  81  47  72 102\n",
      "  28  87  49  43  53  15  42  68  69   1 108  83  82  76  40  67 101  75\n",
      "  36   5  41  66  98  91  19   4   1  93   1   1  74  92 107   9  26  70\n",
      "  71  14  50  22  95  21  51  62  11]\n"
     ]
    }
   ],
   "source": [
    "# Feature Extraction with RFE - Recursive Feature Elimination\n",
    "# check the bellow reference for other feature selection options\n",
    "# -- https://machinelearningmastery.com/feature-selection-machine-learning-python/\n",
    "from sklearn.feature_selection import RFE\n",
    "from sklearn.linear_model import LogisticRegression\n",
    "\n",
    "# get x and y\n",
    "attX = dummies\n",
    "attY = mush.iloc[:,0:1].values.ravel()\n",
    "\n",
    "# Use logistic regression model\n",
    "model = LogisticRegression(solver='lbfgs')\n",
    "# Define RFE to run the log regression model and extract the 10 best features to predict y\n",
    "rfe = RFE(model, 10)\n",
    "# fit RFE to our data\n",
    "fit = rfe.fit(attX, attY)\n",
    "# get ranking\n",
    "rank = fit.ranking_\n",
    "\n",
    "# print number of features selected and the rankings \n",
    "print(\"Num Features: %d\" % fit.n_features_)\n",
    "print(\"Feature Ranking: %s\" % rank)"
   ]
  },
  {
   "cell_type": "code",
   "execution_count": 5,
   "metadata": {},
   "outputs": [
    {
     "data": {
      "text/html": [
       "<div>\n",
       "<style scoped>\n",
       "    .dataframe tbody tr th:only-of-type {\n",
       "        vertical-align: middle;\n",
       "    }\n",
       "\n",
       "    .dataframe tbody tr th {\n",
       "        vertical-align: top;\n",
       "    }\n",
       "\n",
       "    .dataframe thead th {\n",
       "        text-align: right;\n",
       "    }\n",
       "</style>\n",
       "<table border=\"1\" class=\"dataframe\">\n",
       "  <thead>\n",
       "    <tr style=\"text-align: right;\">\n",
       "      <th></th>\n",
       "      <th>odor_a</th>\n",
       "      <th>odor_f</th>\n",
       "      <th>odor_l</th>\n",
       "      <th>odor_n</th>\n",
       "      <th>gill-size_n</th>\n",
       "      <th>stalk-surface-above-ring_k</th>\n",
       "      <th>stalk-color-below-ring_y</th>\n",
       "      <th>spore-print-color_n</th>\n",
       "      <th>spore-print-color_r</th>\n",
       "      <th>spore-print-color_u</th>\n",
       "    </tr>\n",
       "  </thead>\n",
       "  <tbody>\n",
       "    <tr>\n",
       "      <th>0</th>\n",
       "      <td>0</td>\n",
       "      <td>0</td>\n",
       "      <td>0</td>\n",
       "      <td>0</td>\n",
       "      <td>1</td>\n",
       "      <td>0</td>\n",
       "      <td>0</td>\n",
       "      <td>0</td>\n",
       "      <td>0</td>\n",
       "      <td>0</td>\n",
       "    </tr>\n",
       "    <tr>\n",
       "      <th>1</th>\n",
       "      <td>1</td>\n",
       "      <td>0</td>\n",
       "      <td>0</td>\n",
       "      <td>0</td>\n",
       "      <td>0</td>\n",
       "      <td>0</td>\n",
       "      <td>0</td>\n",
       "      <td>1</td>\n",
       "      <td>0</td>\n",
       "      <td>0</td>\n",
       "    </tr>\n",
       "    <tr>\n",
       "      <th>2</th>\n",
       "      <td>0</td>\n",
       "      <td>0</td>\n",
       "      <td>1</td>\n",
       "      <td>0</td>\n",
       "      <td>0</td>\n",
       "      <td>0</td>\n",
       "      <td>0</td>\n",
       "      <td>1</td>\n",
       "      <td>0</td>\n",
       "      <td>0</td>\n",
       "    </tr>\n",
       "    <tr>\n",
       "      <th>3</th>\n",
       "      <td>0</td>\n",
       "      <td>0</td>\n",
       "      <td>0</td>\n",
       "      <td>0</td>\n",
       "      <td>1</td>\n",
       "      <td>0</td>\n",
       "      <td>0</td>\n",
       "      <td>0</td>\n",
       "      <td>0</td>\n",
       "      <td>0</td>\n",
       "    </tr>\n",
       "    <tr>\n",
       "      <th>4</th>\n",
       "      <td>0</td>\n",
       "      <td>0</td>\n",
       "      <td>0</td>\n",
       "      <td>1</td>\n",
       "      <td>0</td>\n",
       "      <td>0</td>\n",
       "      <td>0</td>\n",
       "      <td>1</td>\n",
       "      <td>0</td>\n",
       "      <td>0</td>\n",
       "    </tr>\n",
       "  </tbody>\n",
       "</table>\n",
       "</div>"
      ],
      "text/plain": [
       "   odor_a  odor_f  odor_l  odor_n  gill-size_n  stalk-surface-above-ring_k  \\\n",
       "0       0       0       0       0            1                           0   \n",
       "1       1       0       0       0            0                           0   \n",
       "2       0       0       1       0            0                           0   \n",
       "3       0       0       0       0            1                           0   \n",
       "4       0       0       0       1            0                           0   \n",
       "\n",
       "   stalk-color-below-ring_y  spore-print-color_n  spore-print-color_r  \\\n",
       "0                         0                    0                    0   \n",
       "1                         0                    1                    0   \n",
       "2                         0                    1                    0   \n",
       "3                         0                    0                    0   \n",
       "4                         0                    1                    0   \n",
       "\n",
       "   spore-print-color_u  \n",
       "0                    0  \n",
       "1                    0  \n",
       "2                    0  \n",
       "3                    0  \n",
       "4                    0  "
      ]
     },
     "execution_count": 5,
     "metadata": {},
     "output_type": "execute_result"
    }
   ],
   "source": [
    "# search all values '1' in the ranking array, return their index and display them\n",
    "get_indexes = lambda x, xs: [i for (y, i) in zip(xs, range(len(xs))) if x == y] # https://pythonspot.com/array-find/\n",
    "dummies.iloc[:, get_indexes(1,rank)].head()\n",
    "\n",
    "# The selected categories are:\n",
    "# odor, gill-size, stalk-surface-above-ring, stalk-color-below-ring, spore-print-color"
   ]
  },
  {
   "cell_type": "code",
   "execution_count": 6,
   "metadata": {},
   "outputs": [],
   "source": [
    "# build training and testing(10%) datasets\n",
    "from sklearn.model_selection import train_test_split\n",
    "from sklearn.preprocessing import OneHotEncoder\n",
    "\n",
    "# define oneHotEncoder object\n",
    "onehotencoder = OneHotEncoder(handle_unknown='ignore')\n",
    "\n",
    "# define x as the selected features\n",
    "x = x[['odor', 'gill-size', 'stalk-surface-above-ring', 'stalk-color-below-ring', 'spore-print-color']]\n",
    "x = onehotencoder.fit_transform(x).toarray()\n",
    "# get training and testing subsets\n",
    "X_train, X_test, y_train, y_test = train_test_split(x, y, test_size = 0.1, random_state = 100)"
   ]
  },
  {
   "cell_type": "code",
   "execution_count": 7,
   "metadata": {},
   "outputs": [],
   "source": [
    "import pandas as pd\n",
    "import numpy as np\n",
    "from matplotlib.colors import ListedColormap\n",
    "from sklearn.metrics import accuracy_score\n",
    "from sklearn.metrics import confusion_matrix\n",
    "\n",
    "def run_model(model, alg_name):\n",
    "    \n",
    "    # build the model on training data\n",
    "    model.fit(X_train, y_train.values.ravel())\n",
    "    # make predictions for test data\n",
    "    y_pred = model.predict(X_test)\n",
    "    \n",
    "    # calculate the accuracy score\n",
    "    accuracy =  accuracy_score(y_test, y_pred) * 100\n",
    "    print(alg_name + \". Accuracy: \" + str(accuracy))\n",
    "    \n",
    "    # Create a confusion matrix\n",
    "    cm = pd.DataFrame(confusion_matrix(y_test.iloc[:,0], y_pred, labels=['e','p']))\n",
    "    cm.rename(index = {0: \"edible\", 1:\"poison\"},columns = {0: \"edible\", 1:\"poison\"},inplace = True) \n",
    "    print(cm)\n",
    "    \n",
    "    # my method for confusion matrix\n",
    "    #pt = 0; pf = 0; et = 0; ef = 0\n",
    "    #for idx, val in enumerate(y_pred):\n",
    "    #    if(val == 'p'):\n",
    "    #        if(val == y_test.iloc[idx,0]): pt += 1;\n",
    "    #        else: pf += 1;\n",
    "    #    else:\n",
    "    #        if(val == y_test.iloc[idx,0]): et += 1;\n",
    "    #        else: ef += 1;    \n",
    "    #print('\\n        Predicted')\n",
    "    #print('actual', 'poison', 'edible')\n",
    "    #print('poison', pt,'  ', ef)\n",
    "    #print('edible', pf,'  ', et)"
   ]
  },
  {
   "cell_type": "markdown",
   "metadata": {},
   "source": [
    "### Models"
   ]
  },
  {
   "cell_type": "code",
   "execution_count": 8,
   "metadata": {},
   "outputs": [
    {
     "name": "stdout",
     "output_type": "stream",
     "text": [
      "Decision Tree. Accuracy: 100.0\n",
      "        edible  poison\n",
      "edible     427       0\n",
      "poison       0     386\n"
     ]
    }
   ],
   "source": [
    "# Decision Tree\n",
    "from sklearn import tree\n",
    "\n",
    "model = tree.DecisionTreeClassifier(criterion='entropy', max_depth=7)\n",
    "run_model(model, \"Decision Tree\")"
   ]
  },
  {
   "cell_type": "code",
   "execution_count": 9,
   "metadata": {},
   "outputs": [
    {
     "name": "stdout",
     "output_type": "stream",
     "text": [
      "Random Forest. Accuracy: 100.0\n",
      "        edible  poison\n",
      "edible     427       0\n",
      "poison       0     386\n"
     ]
    }
   ],
   "source": [
    "# Random Forest\n",
    "from sklearn.ensemble import RandomForestClassifier\n",
    "\n",
    "model = RandomForestClassifier(n_estimators=10)\n",
    "run_model(model, \"Random Forest\")"
   ]
  },
  {
   "cell_type": "code",
   "execution_count": 10,
   "metadata": {},
   "outputs": [
    {
     "name": "stdout",
     "output_type": "stream",
     "text": [
      "XGBoost. Accuracy: 100.0\n",
      "        edible  poison\n",
      "edible     427       0\n",
      "poison       0     386\n"
     ]
    }
   ],
   "source": [
    "# xgboost\n",
    "# 'pip install xgboost'\n",
    "\n",
    "from xgboost import XGBClassifier\n",
    "\n",
    "model = XGBClassifier()\n",
    "run_model(model, \"XGBoost\")"
   ]
  },
  {
   "cell_type": "code",
   "execution_count": 11,
   "metadata": {},
   "outputs": [
    {
     "name": "stdout",
     "output_type": "stream",
     "text": [
      "SVM Classifier. Accuracy: 100.0\n",
      "        edible  poison\n",
      "edible     427       0\n",
      "poison       0     386\n"
     ]
    }
   ],
   "source": [
    "# SVM Classifier\n",
    "from sklearn.svm import SVC\n",
    "model = SVC(gamma = 'scale')\n",
    "run_model(model, \"SVM Classifier\")"
   ]
  },
  {
   "cell_type": "code",
   "execution_count": 12,
   "metadata": {},
   "outputs": [
    {
     "name": "stdout",
     "output_type": "stream",
     "text": [
      "Nearest Neighbors Classifier. Accuracy: 100.0\n",
      "        edible  poison\n",
      "edible     427       0\n",
      "poison       0     386\n"
     ]
    }
   ],
   "source": [
    "# Nearest Neighbors\n",
    "from sklearn import neighbors\n",
    "model = neighbors.KNeighborsClassifier()\n",
    "run_model(model, \"Nearest Neighbors Classifier\")"
   ]
  },
  {
   "cell_type": "code",
   "execution_count": 13,
   "metadata": {},
   "outputs": [
    {
     "name": "stdout",
     "output_type": "stream",
     "text": [
      "SGD Classifier. Accuracy: 99.0159901599016\n",
      "        edible  poison\n",
      "edible     419       8\n",
      "poison       0     386\n"
     ]
    }
   ],
   "source": [
    "# SGD Classifier\n",
    "from sklearn.linear_model import SGDClassifier\n",
    "from sklearn.multiclass import OneVsRestClassifier\n",
    "\n",
    "model = OneVsRestClassifier(SGDClassifier(max_iter=10, tol=100))\n",
    "run_model(model, \"SGD Classifier\")"
   ]
  },
  {
   "cell_type": "code",
   "execution_count": 14,
   "metadata": {},
   "outputs": [
    {
     "name": "stdout",
     "output_type": "stream",
     "text": [
      "Gaussian Naive Bayes. Accuracy: 98.4009840098401\n",
      "        edible  poison\n",
      "edible     415      12\n",
      "poison       1     385\n"
     ]
    }
   ],
   "source": [
    "# Gaussian Naive Bayes\n",
    "from sklearn.naive_bayes import GaussianNB\n",
    "\n",
    "model = GaussianNB()\n",
    "run_model(model, \"Gaussian Naive Bayes\")"
   ]
  },
  {
   "cell_type": "code",
   "execution_count": 15,
   "metadata": {},
   "outputs": [
    {
     "name": "stdout",
     "output_type": "stream",
     "text": [
      " MLP Neural network . Accuracy: 100.0\n",
      "        edible  poison\n",
      "edible     427       0\n",
      "poison       0     386\n"
     ]
    }
   ],
   "source": [
    "# Neural network - Multi-layer Perceptron\n",
    "from sklearn.neural_network import MLPClassifier\n",
    "\n",
    "model = MLPClassifier()\n",
    "run_model(model, \" MLP Neural network \")"
   ]
  },
  {
   "cell_type": "markdown",
   "metadata": {},
   "source": [
    "### Using the Models\n",
    "\n",
    "This will define functions to receive input and produce a classification output. \n",
    "It will use the last saved model, if all the blocks were executed sequentialy this would be MLP neural network.\n",
    "To use another model you have to run it above and then execute the next two blocks."
   ]
  },
  {
   "cell_type": "code",
   "execution_count": 16,
   "metadata": {},
   "outputs": [],
   "source": [
    "# Function to transform a feature into it's respective binary array\n",
    "# the arguments are a features list for that category and the selected feature\n",
    "# For 'Surface' it will be:\n",
    "#    possible selection: Fibrous, Grooves, Scaly, Smooth -> if selected Scaly -> array[0, 0, 1, 0]\n",
    "def transform (features, selection):\n",
    "    transformed = np.zeros(len(features))\n",
    "    transformed[features.index(selection)] = 1\n",
    "    return transformed\n",
    "\n",
    "# receives an array with the selected features, process and return the classification result with it's probability\n",
    "def classify(search):\n",
    "    lastCol = ''\n",
    "    featuresDic = {}\n",
    "    attributes = []\n",
    "    \n",
    "    x = mush.iloc[:,1:23] # ignore first column which is the predicted\n",
    "    x = x[['odor', 'gill-size', 'stalk-surface-above-ring', 'stalk-color-below-ring', 'spore-print-color']]\n",
    "    dummies = pd.get_dummies(x[:])\n",
    "    \n",
    "    # build lists for all the features and save them in to a dictionary\n",
    "    for value in dummies.columns:\n",
    "        col = value.split('_')\n",
    "        if(col[0] != lastCol):\n",
    "            newList = []\n",
    "        lastCol = col[0]\n",
    "        newList.append(col[1])\n",
    "        featuresDic[col[0]] = newList\n",
    "    \n",
    "    # go trough the lists transforming them into binary lists according to the selected term \n",
    "    for idx, (key, value) in enumerate(featuresDic.items()):\n",
    "        attributes.extend(transform(value, search[idx]))\n",
    "\n",
    "    # try showing the predicted category probability \n",
    "    try:\n",
    "        class_probabilities = model.predict_proba([attributes])\n",
    "        print(\"Probability:\",\"{:0.10%}\".format(max(class_probabilities[0])))\n",
    "    except:\n",
    "        print(\"this model don't support the probability method\")\n",
    "        \n",
    "    # predict and display classification\n",
    "    z = model.predict([attributes])\n",
    "    if(z[0] == 'p'): print('This mushroom is poisonous')\n",
    "    else: print('Go for it!')\n",
    "\n",
    "# Couldn't find the names of the categories in any file so I had to write them\n",
    "odor = [('Almond','a'), ('Anise','l'), ('Creosote','c'), ('Fishy', 'y'), ('Foul', 'f'), ('Musty','m'), \n",
    "        ('None', 'n'), ('Pungent', 'p'), ('Spicy','s')]\n",
    "gill_size = [('Broad', 'b'), ('Narrow', 'n')]\n",
    "stalk_surface_above_ring = [('Fibrous','f'), ('Scaly', 'y'), ('Silky', 'k'), ('Smooth', 's')]\n",
    "stalk_color_below_ring = [('Brown','n'), ('Buff', 'b'), ('Cinnamon', 'c'), ('Gray','g'), ('Orange', 'o'), \n",
    "                          ('Pink','p'), ('Red', 'e'), ('White', 'w'), ('Yellow', 'y')]\n",
    "spore_print_color = [('black','k'), ('Brown','n'), ('Buff', 'b'), ('Chocolate', 'h'), ('Green','r'), ('Orange', 'o'), \n",
    "                          ('Purple','u'), ('White', 'w'), ('Yellow', 'y')]"
   ]
  },
  {
   "cell_type": "code",
   "execution_count": 17,
   "metadata": {},
   "outputs": [
    {
     "name": "stdout",
     "output_type": "stream",
     "text": [
      "Mushroom Properties:\n"
     ]
    },
    {
     "data": {
      "application/vnd.jupyter.widget-view+json": {
       "model_id": "65e290082eea4d45850585cab6f83d3a",
       "version_major": 2,
       "version_minor": 0
      },
      "text/plain": [
       "interactive(children=(Dropdown(description='Odor', options=(('Almond', 'a'), ('Anise', 'l'), ('Creosote', 'c')…"
      ]
     },
     "metadata": {},
     "output_type": "display_data"
    }
   ],
   "source": [
    "# Simple interface for the model \n",
    "from __future__ import print_function\n",
    "from ipywidgets import interact, interactive, fixed, interact_manual\n",
    "import ipywidgets as widgets\n",
    "\n",
    "print('Mushroom Properties:')\n",
    "\n",
    "@interact(Odor=odor, Gill=gill_size, Stalk_Above_Ring=stalk_surface_above_ring, \n",
    "          Stalk_Bellow_Ring=stalk_color_below_ring, Spore_Print_Color=spore_print_color)\n",
    "def f(Odor, Gill, Stalk_Above_Ring, Stalk_Bellow_Ring, Spore_Print_Color):\n",
    "    \n",
    "    search = [Odor, Gill, Stalk_Above_Ring, Stalk_Bellow_Ring, Spore_Print_Color]\n",
    "    classify(search)"
   ]
  },
  {
   "cell_type": "code",
   "execution_count": null,
   "metadata": {},
   "outputs": [],
   "source": []
  }
 ],
 "metadata": {
  "kernelspec": {
   "display_name": "Python 3",
   "language": "python",
   "name": "python3"
  },
  "language_info": {
   "codemirror_mode": {
    "name": "ipython",
    "version": 3
   },
   "file_extension": ".py",
   "mimetype": "text/x-python",
   "name": "python",
   "nbconvert_exporter": "python",
   "pygments_lexer": "ipython3",
   "version": "3.7.3"
  }
 },
 "nbformat": 4,
 "nbformat_minor": 2
}
